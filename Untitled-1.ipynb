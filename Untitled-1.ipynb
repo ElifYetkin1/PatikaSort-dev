{
 "cells": [
  {
   "cell_type": "code",
   "execution_count": 55,
   "metadata": {},
   "outputs": [],
   "source": [
    "points = [(3,5),(8,2),(4,7),(6,9)]"
   ]
  },
  {
   "cell_type": "code",
   "execution_count": 56,
   "metadata": {},
   "outputs": [],
   "source": [
    "\n",
    "import math\n",
    "\n",
    "\n",
    "def euclideanDistance(a,b) :\n",
    "\n",
    "    x1 = a[0]\n",
    "    y1 = a[1]\n",
    "\n",
    "    x2 = b[0]\n",
    "    y2 = b[1]\n",
    "\n",
    "    c= (x1-x2)**2 + (y1-y2)**2\n",
    "\n",
    "    return(math.sqrt(c))"
   ]
  },
  {
   "cell_type": "code",
   "execution_count": 60,
   "metadata": {},
   "outputs": [
    {
     "name": "stdout",
     "output_type": "stream",
     "text": [
      "5.830951894845301\n",
      "0.0\n",
      "6.4031242374328485\n",
      "7.280109889280518\n"
     ]
    }
   ],
   "source": [
    "for i in points:\n",
    "    counter = 1\n",
    "    result = euclideanDistance(i,points[counter])\n",
    "    counter = counter+1\n",
    "    print(result)"
   ]
  },
  {
   "cell_type": "code",
   "execution_count": 59,
   "metadata": {},
   "outputs": [
    {
     "name": "stdout",
     "output_type": "stream",
     "text": [
      "(3, 5)\n",
      "(8, 2)\n",
      "(4, 7)\n",
      "(6, 9)\n"
     ]
    }
   ],
   "source": [
    "for i in points:\n",
    "   print(i)\n",
    "    "
   ]
  }
 ],
 "metadata": {
  "kernelspec": {
   "display_name": "Python 3",
   "language": "python",
   "name": "python3"
  },
  "language_info": {
   "codemirror_mode": {
    "name": "ipython",
    "version": 3
   },
   "file_extension": ".py",
   "mimetype": "text/x-python",
   "name": "python",
   "nbconvert_exporter": "python",
   "pygments_lexer": "ipython3",
   "version": "3.12.7"
  }
 },
 "nbformat": 4,
 "nbformat_minor": 2
}
